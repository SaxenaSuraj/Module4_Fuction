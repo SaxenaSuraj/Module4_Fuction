{
  "cells": [
    {
      "cell_type": "markdown",
      "source": [
        "#Theory Question"
      ],
      "metadata": {
        "id": "y5UYpZZjLHwI"
      },
      "id": "y5UYpZZjLHwI"
    },
    {
      "cell_type": "markdown",
      "source": [
        "1.A function is independent, while a method is associated with an object.\n",
        "Example: len(\"abc\") is a function, \"abc\".upper() is a method.\n",
        "\n",
        "2.Parameters are variables in function definition; arguments are actual values passed.\n",
        "Example: def add(x, y): → x, y are parameters; add(2, 3) → 2, 3 are arguments.  \n",
        "3.Ways to define and call a function,define using def or lambda, call by using().\n",
        "Example: def greet(): print(\"Hi\"); greet().\n",
        "\n",
        "4.Purpose of return statement to sends the result back to the caller.\n",
        "Example: def square(x): return x*x.\n",
        "\n",
        "5.\n",
        "Iterables can be looped over; iterators produce items using __next__().\n",
        "Example: iter([1, 2]) is an iterator of a list.\n",
        "\n",
        "6.Generators yield items lazily using yield.\n",
        "Example: def gen(): yield 1.\n",
        "\n",
        "7.Generators use less memory and are faster for large data.\n",
        "Example: yield vs storing in a list.\n",
        "\n",
        "8.Lambda is an anonymous function used for short tasks.\n",
        "Example: lambda x: x + 1.\n",
        "\n",
        "9.map() applies a function to all items in an iterable.\n",
        "Example: map(str.upper, ['a', 'b']).\n",
        "\n",
        "10.map() vs reduce() vs filter():\n",
        "map() transforms, reduce() aggregates, filter() selects items.\n",
        "Example:\n",
        "\n",
        "map(lambda x: x*2, [1,2])\n",
        "\n",
        "reduce(lambda x,y: x+y, [1,2])\n",
        "\n",
        "filter(lambda x: x>1, [1,2])\n"
      ],
      "metadata": {
        "id": "Ce-pMsPDK8oQ"
      },
      "id": "Ce-pMsPDK8oQ"
    },
    {
      "cell_type": "markdown",
      "id": "36cab23a",
      "metadata": {
        "id": "36cab23a"
      },
      "source": [
        "# Python Functions Assignment – Practical Questions\n"
      ]
    },
    {
      "cell_type": "markdown",
      "id": "c487b6d1",
      "metadata": {
        "id": "c487b6d1"
      },
      "source": [
        "### 1. Write a Python function that takes a list of numbers as input and returns the sum of all even numbers in the list."
      ]
    },
    {
      "cell_type": "code",
      "execution_count": 47,
      "id": "388f5760",
      "metadata": {
        "colab": {
          "base_uri": "https://localhost:8080/"
        },
        "id": "388f5760",
        "outputId": "01a5baeb-e012-4f63-dd1c-b758853d449d"
      },
      "outputs": [
        {
          "output_type": "execute_result",
          "data": {
            "text/plain": [
              "6"
            ]
          },
          "metadata": {},
          "execution_count": 47
        }
      ],
      "source": [
        "def sum_even(nums):\n",
        "    return sum(x for x in nums if x % 2 == 0)\n",
        "\n",
        "sum_even([1, 2, 3, 4])"
      ]
    },
    {
      "cell_type": "markdown",
      "id": "32eb4c53",
      "metadata": {
        "id": "32eb4c53"
      },
      "source": [
        "### 2. Create a Python function that accepts a string and returns the reverse of that string."
      ]
    },
    {
      "cell_type": "code",
      "execution_count": 48,
      "id": "4f07328e",
      "metadata": {
        "colab": {
          "base_uri": "https://localhost:8080/",
          "height": 36
        },
        "id": "4f07328e",
        "outputId": "80dc87c3-1362-4847-be55-fa725b1c36c0"
      },
      "outputs": [
        {
          "output_type": "execute_result",
          "data": {
            "text/plain": [
              "'olleh'"
            ],
            "application/vnd.google.colaboratory.intrinsic+json": {
              "type": "string"
            }
          },
          "metadata": {},
          "execution_count": 48
        }
      ],
      "source": [
        "def reverse_str(s):\n",
        "    return s[::-1]\n",
        "\n",
        "reverse_str('hello')"
      ]
    },
    {
      "cell_type": "markdown",
      "id": "286d0440",
      "metadata": {
        "id": "286d0440"
      },
      "source": [
        "### 3. Implement a Python function that takes a list of integers and returns a new list containing the squares of each number."
      ]
    },
    {
      "cell_type": "code",
      "execution_count": 49,
      "id": "40d7f545",
      "metadata": {
        "colab": {
          "base_uri": "https://localhost:8080/"
        },
        "id": "40d7f545",
        "outputId": "ec7c57f2-8de7-415b-f311-1336f60c378e"
      },
      "outputs": [
        {
          "output_type": "execute_result",
          "data": {
            "text/plain": [
              "[1, 4, 9]"
            ]
          },
          "metadata": {},
          "execution_count": 49
        }
      ],
      "source": [
        "def square_list(lst):\n",
        "    return [x**2 for x in lst]\n",
        "\n",
        "square_list([1, 2, 3])"
      ]
    },
    {
      "cell_type": "markdown",
      "id": "763ced6a",
      "metadata": {
        "id": "763ced6a"
      },
      "source": [
        "### 4. Write a Python function that checks if a given number is prime or not from 1 to 200."
      ]
    },
    {
      "cell_type": "code",
      "execution_count": 50,
      "id": "a6279022",
      "metadata": {
        "colab": {
          "base_uri": "https://localhost:8080/"
        },
        "id": "a6279022",
        "outputId": "b47c02b6-4151-46ad-9fa5-e9df5a1c86e4"
      },
      "outputs": [
        {
          "output_type": "execute_result",
          "data": {
            "text/plain": [
              "True"
            ]
          },
          "metadata": {},
          "execution_count": 50
        }
      ],
      "source": [
        "def is_prime(n):\n",
        "    return n > 1 and all(n % i for i in range(2, int(n**0.5) + 1))\n",
        "\n",
        "is_prime(7)"
      ]
    },
    {
      "cell_type": "markdown",
      "id": "99507dd5",
      "metadata": {
        "id": "99507dd5"
      },
      "source": [
        "### 5. Create an iterator class in Python that generates the Fibonacci sequence up to a specified number of terms."
      ]
    },
    {
      "cell_type": "code",
      "execution_count": 51,
      "id": "e2da3d64",
      "metadata": {
        "colab": {
          "base_uri": "https://localhost:8080/"
        },
        "id": "e2da3d64",
        "outputId": "9d98b838-215a-4324-fb8c-408db3b13c06"
      },
      "outputs": [
        {
          "output_type": "execute_result",
          "data": {
            "text/plain": [
              "[1, 1, 2, 3, 5]"
            ]
          },
          "metadata": {},
          "execution_count": 51
        }
      ],
      "source": [
        "class Fib:\n",
        "    def __init__(self, n):\n",
        "        self.a, self.b, self.n = 0, 1, n\n",
        "    def __iter__(self):\n",
        "        return self\n",
        "    def __next__(self):\n",
        "        if self.n <= 0:\n",
        "            raise StopIteration\n",
        "        self.a, self.b, self.n = self.b, self.a + self.b, self.n - 1\n",
        "        return self.a\n",
        "list(Fib(5))"
      ]
    },
    {
      "cell_type": "markdown",
      "id": "5760e38e",
      "metadata": {
        "id": "5760e38e"
      },
      "source": [
        "### 6. Write a generator function in Python that yields the powers of 2 up to a given exponent."
      ]
    },
    {
      "cell_type": "code",
      "execution_count": 52,
      "id": "315ac601",
      "metadata": {
        "colab": {
          "base_uri": "https://localhost:8080/"
        },
        "id": "315ac601",
        "outputId": "0d6e5205-4a57-40f7-e30d-8ce6411dd496"
      },
      "outputs": [
        {
          "output_type": "execute_result",
          "data": {
            "text/plain": [
              "[1, 2, 4, 8]"
            ]
          },
          "metadata": {},
          "execution_count": 52
        }
      ],
      "source": [
        "def powers_of_2(exp):\n",
        "    for i in range(exp + 1):\n",
        "        yield 2**i\n",
        "list(powers_of_2(3))"
      ]
    },
    {
      "cell_type": "markdown",
      "id": "7a7c37a0",
      "metadata": {
        "id": "7a7c37a0"
      },
      "source": [
        "### 7. Implement a generator function that reads a file line by line and yields each line as a string."
      ]
    },
    {
      "cell_type": "code",
      "execution_count": 53,
      "id": "1e0283aa",
      "metadata": {
        "colab": {
          "base_uri": "https://localhost:8080/",
          "height": 125
        },
        "id": "1e0283aa",
        "outputId": "4d635266-8643-43cd-ea30-c5caac0f29e9"
      },
      "outputs": [
        {
          "output_type": "display_data",
          "data": {
            "text/plain": [
              "<IPython.core.display.HTML object>"
            ],
            "text/html": [
              "\n",
              "     <input type=\"file\" id=\"files-16c5ea13-c7d5-4279-b023-e428a1d95a6c\" name=\"files[]\" multiple disabled\n",
              "        style=\"border:none\" />\n",
              "     <output id=\"result-16c5ea13-c7d5-4279-b023-e428a1d95a6c\">\n",
              "      Upload widget is only available when the cell has been executed in the\n",
              "      current browser session. Please rerun this cell to enable.\n",
              "      </output>\n",
              "      <script>// Copyright 2017 Google LLC\n",
              "//\n",
              "// Licensed under the Apache License, Version 2.0 (the \"License\");\n",
              "// you may not use this file except in compliance with the License.\n",
              "// You may obtain a copy of the License at\n",
              "//\n",
              "//      http://www.apache.org/licenses/LICENSE-2.0\n",
              "//\n",
              "// Unless required by applicable law or agreed to in writing, software\n",
              "// distributed under the License is distributed on an \"AS IS\" BASIS,\n",
              "// WITHOUT WARRANTIES OR CONDITIONS OF ANY KIND, either express or implied.\n",
              "// See the License for the specific language governing permissions and\n",
              "// limitations under the License.\n",
              "\n",
              "/**\n",
              " * @fileoverview Helpers for google.colab Python module.\n",
              " */\n",
              "(function(scope) {\n",
              "function span(text, styleAttributes = {}) {\n",
              "  const element = document.createElement('span');\n",
              "  element.textContent = text;\n",
              "  for (const key of Object.keys(styleAttributes)) {\n",
              "    element.style[key] = styleAttributes[key];\n",
              "  }\n",
              "  return element;\n",
              "}\n",
              "\n",
              "// Max number of bytes which will be uploaded at a time.\n",
              "const MAX_PAYLOAD_SIZE = 100 * 1024;\n",
              "\n",
              "function _uploadFiles(inputId, outputId) {\n",
              "  const steps = uploadFilesStep(inputId, outputId);\n",
              "  const outputElement = document.getElementById(outputId);\n",
              "  // Cache steps on the outputElement to make it available for the next call\n",
              "  // to uploadFilesContinue from Python.\n",
              "  outputElement.steps = steps;\n",
              "\n",
              "  return _uploadFilesContinue(outputId);\n",
              "}\n",
              "\n",
              "// This is roughly an async generator (not supported in the browser yet),\n",
              "// where there are multiple asynchronous steps and the Python side is going\n",
              "// to poll for completion of each step.\n",
              "// This uses a Promise to block the python side on completion of each step,\n",
              "// then passes the result of the previous step as the input to the next step.\n",
              "function _uploadFilesContinue(outputId) {\n",
              "  const outputElement = document.getElementById(outputId);\n",
              "  const steps = outputElement.steps;\n",
              "\n",
              "  const next = steps.next(outputElement.lastPromiseValue);\n",
              "  return Promise.resolve(next.value.promise).then((value) => {\n",
              "    // Cache the last promise value to make it available to the next\n",
              "    // step of the generator.\n",
              "    outputElement.lastPromiseValue = value;\n",
              "    return next.value.response;\n",
              "  });\n",
              "}\n",
              "\n",
              "/**\n",
              " * Generator function which is called between each async step of the upload\n",
              " * process.\n",
              " * @param {string} inputId Element ID of the input file picker element.\n",
              " * @param {string} outputId Element ID of the output display.\n",
              " * @return {!Iterable<!Object>} Iterable of next steps.\n",
              " */\n",
              "function* uploadFilesStep(inputId, outputId) {\n",
              "  const inputElement = document.getElementById(inputId);\n",
              "  inputElement.disabled = false;\n",
              "\n",
              "  const outputElement = document.getElementById(outputId);\n",
              "  outputElement.innerHTML = '';\n",
              "\n",
              "  const pickedPromise = new Promise((resolve) => {\n",
              "    inputElement.addEventListener('change', (e) => {\n",
              "      resolve(e.target.files);\n",
              "    });\n",
              "  });\n",
              "\n",
              "  const cancel = document.createElement('button');\n",
              "  inputElement.parentElement.appendChild(cancel);\n",
              "  cancel.textContent = 'Cancel upload';\n",
              "  const cancelPromise = new Promise((resolve) => {\n",
              "    cancel.onclick = () => {\n",
              "      resolve(null);\n",
              "    };\n",
              "  });\n",
              "\n",
              "  // Wait for the user to pick the files.\n",
              "  const files = yield {\n",
              "    promise: Promise.race([pickedPromise, cancelPromise]),\n",
              "    response: {\n",
              "      action: 'starting',\n",
              "    }\n",
              "  };\n",
              "\n",
              "  cancel.remove();\n",
              "\n",
              "  // Disable the input element since further picks are not allowed.\n",
              "  inputElement.disabled = true;\n",
              "\n",
              "  if (!files) {\n",
              "    return {\n",
              "      response: {\n",
              "        action: 'complete',\n",
              "      }\n",
              "    };\n",
              "  }\n",
              "\n",
              "  for (const file of files) {\n",
              "    const li = document.createElement('li');\n",
              "    li.append(span(file.name, {fontWeight: 'bold'}));\n",
              "    li.append(span(\n",
              "        `(${file.type || 'n/a'}) - ${file.size} bytes, ` +\n",
              "        `last modified: ${\n",
              "            file.lastModifiedDate ? file.lastModifiedDate.toLocaleDateString() :\n",
              "                                    'n/a'} - `));\n",
              "    const percent = span('0% done');\n",
              "    li.appendChild(percent);\n",
              "\n",
              "    outputElement.appendChild(li);\n",
              "\n",
              "    const fileDataPromise = new Promise((resolve) => {\n",
              "      const reader = new FileReader();\n",
              "      reader.onload = (e) => {\n",
              "        resolve(e.target.result);\n",
              "      };\n",
              "      reader.readAsArrayBuffer(file);\n",
              "    });\n",
              "    // Wait for the data to be ready.\n",
              "    let fileData = yield {\n",
              "      promise: fileDataPromise,\n",
              "      response: {\n",
              "        action: 'continue',\n",
              "      }\n",
              "    };\n",
              "\n",
              "    // Use a chunked sending to avoid message size limits. See b/62115660.\n",
              "    let position = 0;\n",
              "    do {\n",
              "      const length = Math.min(fileData.byteLength - position, MAX_PAYLOAD_SIZE);\n",
              "      const chunk = new Uint8Array(fileData, position, length);\n",
              "      position += length;\n",
              "\n",
              "      const base64 = btoa(String.fromCharCode.apply(null, chunk));\n",
              "      yield {\n",
              "        response: {\n",
              "          action: 'append',\n",
              "          file: file.name,\n",
              "          data: base64,\n",
              "        },\n",
              "      };\n",
              "\n",
              "      let percentDone = fileData.byteLength === 0 ?\n",
              "          100 :\n",
              "          Math.round((position / fileData.byteLength) * 100);\n",
              "      percent.textContent = `${percentDone}% done`;\n",
              "\n",
              "    } while (position < fileData.byteLength);\n",
              "  }\n",
              "\n",
              "  // All done.\n",
              "  yield {\n",
              "    response: {\n",
              "      action: 'complete',\n",
              "    }\n",
              "  };\n",
              "}\n",
              "\n",
              "scope.google = scope.google || {};\n",
              "scope.google.colab = scope.google.colab || {};\n",
              "scope.google.colab._files = {\n",
              "  _uploadFiles,\n",
              "  _uploadFilesContinue,\n",
              "};\n",
              "})(self);\n",
              "</script> "
            ]
          },
          "metadata": {}
        },
        {
          "output_type": "stream",
          "name": "stdout",
          "text": [
            "Saving Test.txt to Test (2).txt\n",
            "Line 1\n",
            "Line 2\n",
            "Line 3\n"
          ]
        }
      ],
      "source": [
        "from google.colab import files\n",
        "uploaded = files.upload()\n",
        "def read_file(file_path):\n",
        "    with open(file_path, 'r') as f:\n",
        "        for line in f:\n",
        "            yield line.strip()\n",
        "\n",
        "# Example usage\n",
        "for line in read_file(\"Test.txt\"):\n",
        "    print(line)\n",
        "\n",
        "# Example (make sure to have a file)\n",
        "# for line in read_file('file.txt'): print(line)"
      ]
    },
    {
      "cell_type": "markdown",
      "id": "fd85e7cf",
      "metadata": {
        "id": "fd85e7cf"
      },
      "source": [
        "### 8. Use a lambda function in Python to sort a list of tuples based on the second element of each tuple."
      ]
    },
    {
      "cell_type": "code",
      "execution_count": 54,
      "id": "465a93ab",
      "metadata": {
        "colab": {
          "base_uri": "https://localhost:8080/"
        },
        "id": "465a93ab",
        "outputId": "6d0ca95b-6250-4a88-f42c-659e3e73a77b"
      },
      "outputs": [
        {
          "output_type": "stream",
          "name": "stdout",
          "text": [
            "[(2, 1), (3, 2), (1, 3)]\n"
          ]
        }
      ],
      "source": [
        "sorted_list = sorted([(1, 3), (2, 1), (3, 2)], key=lambda x: x[1])\n",
        "print(sorted_list)"
      ]
    },
    {
      "cell_type": "markdown",
      "id": "dc364e64",
      "metadata": {
        "id": "dc364e64"
      },
      "source": [
        "### 9. Write a Python program that uses `map()` to convert a list of temperatures from Celsius to Fahrenheit."
      ]
    },
    {
      "cell_type": "code",
      "execution_count": 55,
      "id": "dac69896",
      "metadata": {
        "colab": {
          "base_uri": "https://localhost:8080/"
        },
        "id": "dac69896",
        "outputId": "5062308b-de1e-4472-b6fc-2767eee6ee8e"
      },
      "outputs": [
        {
          "output_type": "stream",
          "name": "stdout",
          "text": [
            "[32.0, 77.0, 86.0]\n"
          ]
        }
      ],
      "source": [
        "fahrenheit = list(map(lambda c: (c * 9/5) + 32, [0, 25, 30]))\n",
        "print(fahrenheit)"
      ]
    },
    {
      "cell_type": "markdown",
      "id": "bb150d9e",
      "metadata": {
        "id": "bb150d9e"
      },
      "source": [
        "### 10. Create a Python program that uses `filter()` to remove all the vowels from a given string."
      ]
    },
    {
      "cell_type": "code",
      "execution_count": 56,
      "id": "773b7813",
      "metadata": {
        "colab": {
          "base_uri": "https://localhost:8080/"
        },
        "id": "773b7813",
        "outputId": "987d9224-ddd3-4738-ac2a-0c0ed5f41f89"
      },
      "outputs": [
        {
          "output_type": "stream",
          "name": "stdout",
          "text": [
            "hll wrld\n"
          ]
        }
      ],
      "source": [
        "no_vowels = ''.join(filter(lambda x: x.lower() not in 'aeiou', 'hello world'))\n",
        "print(no_vowels)"
      ]
    },
    {
      "cell_type": "markdown",
      "id": "31c36cb3",
      "metadata": {
        "id": "31c36cb3"
      },
      "source": [
        "### 11. Bookshop accounting with lambda and map."
      ]
    },
    {
      "cell_type": "code",
      "execution_count": 57,
      "id": "c51e1637",
      "metadata": {
        "colab": {
          "base_uri": "https://localhost:8080/"
        },
        "id": "c51e1637",
        "outputId": "7bb4050f-b9a9-46ee-81a7-b412186ed496"
      },
      "outputs": [
        {
          "output_type": "stream",
          "name": "stdout",
          "text": [
            "[[34587, 'Book A', 4, 40.95], [98762, 'Book B', 1, 10.95]]\n",
            "[(34587, 163.8), (98762, 20.95)]\n"
          ]
        }
      ],
      "source": [
        "orders = [[34587, 'Book A', 4, 40.95], [98762, 'Book B', 1, 10.95]]\n",
        "result = list(map(lambda x: (x[0], x[2]*x[3] + 10 if x[2]*x[3] < 100 else x[2]*x[3]), orders))\n",
        "print(orders)\n",
        "print(result)"
      ]
    }
  ],
  "metadata": {
    "colab": {
      "provenance": []
    },
    "language_info": {
      "name": "python"
    },
    "kernelspec": {
      "name": "python3",
      "display_name": "Python 3"
    }
  },
  "nbformat": 4,
  "nbformat_minor": 5
}